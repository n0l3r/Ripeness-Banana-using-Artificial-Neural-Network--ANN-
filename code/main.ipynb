{
 "cells": [
  {
   "cell_type": "code",
   "execution_count": 1,
   "metadata": {},
   "outputs": [],
   "source": [
    "import numpy as np\n",
    "import pandas as pd\n",
    "import matplotlib.pyplot as plt\n",
    "import seaborn as sns\n",
    "import os\n",
    "import cv2\n",
    "import random\n",
    "from tqdm import tqdm\n",
    "from sklearn.model_selection import train_test_split\n",
    "from sklearn.metrics import confusion_matrix\n",
    "import glob\n",
    "import tensorflow as tf\n"
   ]
  },
  {
   "cell_type": "code",
   "execution_count": 2,
   "metadata": {},
   "outputs": [
    {
     "name": "stderr",
     "output_type": "stream",
     "text": [
      "100%|███████████████████████████████████████████████████████████████████████████████| 104/104 [00:00<00:00, 140.03it/s]\n",
      "100%|█████████████████████████████████████████████████████████████████████████████████| 88/88 [00:00<00:00, 124.75it/s]"
     ]
    },
    {
     "name": "stdout",
     "output_type": "stream",
     "text": [
      "192\n"
     ]
    },
    {
     "name": "stderr",
     "output_type": "stream",
     "text": [
      "\n"
     ]
    }
   ],
   "source": [
    "dataset = '../dataset/'\n",
    "IMAGE_WIDTH = 533\n",
    "IMAGE_HEIGHT = 300\n",
    "# read all images in the folder dataset\n",
    "labels = ['mentah', 'matang']\n",
    "images = []\n",
    "for label in labels:\n",
    "    for file in tqdm(glob.glob(dataset + label + '/*.jpg')):\n",
    "        img = cv2.imread(file)\n",
    "        img = cv2.resize(img, (IMAGE_WIDTH, IMAGE_HEIGHT))\n",
    "        img_array = np.array(img)\n",
    "        images.append([img_array, label])\n",
    "print(len(images))"
   ]
  },
  {
   "cell_type": "code",
   "execution_count": 3,
   "metadata": {},
   "outputs": [],
   "source": [
    "def cv2_show(img):\n",
    "    cv2.imshow('image', img)\n",
    "    cv2.waitKey(0)\n",
    "    cv2.destroyAllWindows()\n",
    "\n",
    "def gaussian_blur(img):\n",
    "    return cv2.GaussianBlur(img, (3, 3), 0)\n",
    "\n",
    "def hsv(img):\n",
    "    return cv2.cvtColor(img, cv2.COLOR_BGR2HSV)\n",
    "\n",
    "def mask(img, label):\n",
    "    if label == 'mentah':\n",
    "        lower = np.array([0, 66, 0])\n",
    "        upper = np.array([255, 255, 255])\n",
    "    else:\n",
    "        lower = np.array([0, 41, 0])\n",
    "        upper = np.array([255, 255, 255])\n",
    "    return cv2.inRange(img, lower, upper)\n",
    "\n",
    "\n",
    "\n"
   ]
  },
  {
   "cell_type": "code",
   "execution_count": 4,
   "metadata": {},
   "outputs": [],
   "source": [
    "cv2_show(images[0][0])\n",
    "\n",
    "# blur all images\n",
    "blur_images = []\n",
    "\n",
    "for i in range(len(images)):\n",
    "    blur_images.append([gaussian_blur(images[i][0]), images[i][1]])\n",
    "    \n",
    "cv2_show(blur_images[0][0])\n",
    "\n",
    "# convert to hsv\n",
    "hsv_images = []\n",
    "\n",
    "for i in range(len(blur_images)):\n",
    "    hsv_images.append([hsv(blur_images[i][0]), images[i][1]])\n",
    "\n",
    "cv2_show(hsv_images[0][0])\n"
   ]
  },
  {
   "cell_type": "code",
   "execution_count": 5,
   "metadata": {},
   "outputs": [],
   "source": [
    "# mask all images\n",
    "mask_images = []\n",
    "\n",
    "for i in range(len(images)):\n",
    "    mask_images.append([mask(hsv_images[i][0], images[i][1]), images[i][1]])\n",
    "\n",
    "cv2_show(mask_images[0][0])"
   ]
  },
  {
   "cell_type": "code",
   "execution_count": 6,
   "metadata": {},
   "outputs": [],
   "source": [
    "# erosion and dilation\n",
    "\n",
    "segmented_images = []\n",
    "\n",
    "for mask in mask_images:\n",
    "    kernel = np.ones((3, 3),np.uint8)\n",
    "    erosion = cv2.erode(mask[0], kernel,iterations = 1)\n",
    "    dilation = cv2.dilate(erosion,kernel,iterations = 1)\n",
    "    segmented_images.append([dilation, mask[1]])\n",
    "\n",
    "cv2_show(segmented_images[0][0])\n"
   ]
  },
  {
   "cell_type": "code",
   "execution_count": 7,
   "metadata": {},
   "outputs": [],
   "source": [
    "# final images v1\n",
    "final_images = []\n",
    "\n",
    "for i in range(len(segmented_images)):\n",
    "    final_images.append([cv2.bitwise_and(images[i][0], images[i][0], mask=segmented_images[i][0]), images[i][1]])\n",
    "\n",
    "# masih terdapat sisa-sisa background\n",
    "cv2_show(final_images[0][0])\n"
   ]
  },
  {
   "cell_type": "code",
   "execution_count": 8,
   "metadata": {},
   "outputs": [
    {
     "data": {
      "text/plain": [
       "192"
      ]
     },
     "execution_count": 8,
     "metadata": {},
     "output_type": "execute_result"
    }
   ],
   "source": [
    "def gaussian_blur_v2(img):\n",
    "    return cv2.GaussianBlur(img, (15, 15), 3)\n",
    "\n",
    "def mask_v2(img, label):\n",
    "    if label == 'mentah':\n",
    "        lower = np.array([0, 100, 0])\n",
    "        upper = np.array([255, 255, 255])\n",
    "    else:\n",
    "        lower = np.array([0, 95, 0])\n",
    "        upper = np.array([255, 255, 255])\n",
    "    return cv2.inRange(img, lower, upper)\n",
    "\n",
    "segmented_images_v2 = []\n",
    "\n",
    "for image in images:\n",
    "    img = gaussian_blur_v2(image[0])\n",
    "    img = hsv(img)\n",
    "    img = mask_v2(img, image[1])\n",
    "\n",
    "    kernel = np.ones((3, 3),np.uint8)\n",
    "    if image[1] == 'mentah' :\n",
    "        erosion = cv2.erode(img, kernel,iterations = 1)\n",
    "        dilation = cv2.dilate(erosion,kernel,iterations = 1)\n",
    "    else:\n",
    "        erosion = cv2.erode(img, kernel,iterations = 2)\n",
    "        dilation = cv2.dilate(erosion,kernel,iterations = 1)\n",
    "    segmented_images_v2.append([dilation, image[1]])\n",
    "\n",
    "final_images_v2 = []\n",
    "for i in range(len(final_images)):\n",
    "    final_images_v2.append([cv2.bitwise_and(images[i][0], images[i][0], mask=segmented_images_v2[i][0]), images[i][1]])\n",
    "cv2_show(segmented_images_v2[0][0])\n",
    "cv2_show(final_images_v2[0][0])\n",
    "len(final_images_v2)\n",
    "\n"
   ]
  },
  {
   "cell_type": "code",
   "execution_count": 9,
   "metadata": {},
   "outputs": [],
   "source": [
    "# save all final images v2 to file system\n",
    "for i in range(len(final_images_v2)):\n",
    "    cv2.imwrite('../dataset/segmented/' + final_images_v2[i][1] + '/' + str(i) + '.jpg', final_images_v2[i][0])\n",
    "    \n",
    "   \n"
   ]
  },
  {
   "cell_type": "code",
   "execution_count": 10,
   "metadata": {},
   "outputs": [
    {
     "name": "stderr",
     "output_type": "stream",
     "text": [
      "100%|███████████████████████████████████████████████████████████████████████████████| 104/104 [00:00<00:00, 493.61it/s]\n",
      "100%|█████████████████████████████████████████████████████████████████████████████████| 88/88 [00:00<00:00, 467.93it/s]"
     ]
    },
    {
     "name": "stdout",
     "output_type": "stream",
     "text": [
      "192\n"
     ]
    },
    {
     "name": "stderr",
     "output_type": "stream",
     "text": [
      "\n"
     ]
    }
   ],
   "source": [
    "# access all segmented images\n",
    "segmented_images = []\n",
    "for label in labels:\n",
    "    for file in tqdm(glob.glob('../dataset/segmented/' + label + '/*.jpg')):\n",
    "        img = cv2.imread(file)\n",
    "        img = cv2.resize(img, (IMAGE_WIDTH, IMAGE_HEIGHT))\n",
    "        img_array = np.array(img)\n",
    "        segmented_images.append([img_array, label])\n",
    "\n",
    "print(len(segmented_images))\n",
    "\n"
   ]
  },
  {
   "cell_type": "code",
   "execution_count": 11,
   "metadata": {},
   "outputs": [],
   "source": [
    "def get_rgb(img):\n",
    "    r = np.mean(img[:,:,2])\n",
    "    g = np.mean(img[:,:,1])\n",
    "    b = np.mean(img[:,:,0])\n",
    "    return [r, g, b]\n",
    "\n",
    "means = []\n",
    "for image in segmented_images:\n",
    "    rgb = get_rgb(image[0])\n",
    "    means.append([rgb[0], rgb[1], rgb[2], image[1]])\n"
   ]
  },
  {
   "cell_type": "code",
   "execution_count": 12,
   "metadata": {},
   "outputs": [
    {
     "data": {
      "text/html": [
       "<div>\n",
       "<style scoped>\n",
       "    .dataframe tbody tr th:only-of-type {\n",
       "        vertical-align: middle;\n",
       "    }\n",
       "\n",
       "    .dataframe tbody tr th {\n",
       "        vertical-align: top;\n",
       "    }\n",
       "\n",
       "    .dataframe thead th {\n",
       "        text-align: right;\n",
       "    }\n",
       "</style>\n",
       "<table border=\"1\" class=\"dataframe\">\n",
       "  <thead>\n",
       "    <tr style=\"text-align: right;\">\n",
       "      <th></th>\n",
       "      <th>Red</th>\n",
       "      <th>Green</th>\n",
       "      <th>Blue</th>\n",
       "      <th>Label</th>\n",
       "    </tr>\n",
       "  </thead>\n",
       "  <tbody>\n",
       "    <tr>\n",
       "      <th>0</th>\n",
       "      <td>22.413233</td>\n",
       "      <td>25.272039</td>\n",
       "      <td>4.682639</td>\n",
       "      <td>mentah</td>\n",
       "    </tr>\n",
       "    <tr>\n",
       "      <th>1</th>\n",
       "      <td>21.745084</td>\n",
       "      <td>25.223809</td>\n",
       "      <td>7.268011</td>\n",
       "      <td>mentah</td>\n",
       "    </tr>\n",
       "    <tr>\n",
       "      <th>2</th>\n",
       "      <td>23.692477</td>\n",
       "      <td>26.899300</td>\n",
       "      <td>6.831220</td>\n",
       "      <td>mentah</td>\n",
       "    </tr>\n",
       "    <tr>\n",
       "      <th>3</th>\n",
       "      <td>26.973058</td>\n",
       "      <td>31.302858</td>\n",
       "      <td>7.302464</td>\n",
       "      <td>mentah</td>\n",
       "    </tr>\n",
       "    <tr>\n",
       "      <th>4</th>\n",
       "      <td>24.108849</td>\n",
       "      <td>28.455960</td>\n",
       "      <td>6.963684</td>\n",
       "      <td>mentah</td>\n",
       "    </tr>\n",
       "    <tr>\n",
       "      <th>...</th>\n",
       "      <td>...</td>\n",
       "      <td>...</td>\n",
       "      <td>...</td>\n",
       "      <td>...</td>\n",
       "    </tr>\n",
       "    <tr>\n",
       "      <th>187</th>\n",
       "      <td>39.737761</td>\n",
       "      <td>31.920344</td>\n",
       "      <td>12.184071</td>\n",
       "      <td>matang</td>\n",
       "    </tr>\n",
       "    <tr>\n",
       "      <th>188</th>\n",
       "      <td>32.105985</td>\n",
       "      <td>21.738881</td>\n",
       "      <td>9.159593</td>\n",
       "      <td>matang</td>\n",
       "    </tr>\n",
       "    <tr>\n",
       "      <th>189</th>\n",
       "      <td>35.278474</td>\n",
       "      <td>27.963089</td>\n",
       "      <td>10.807161</td>\n",
       "      <td>matang</td>\n",
       "    </tr>\n",
       "    <tr>\n",
       "      <th>190</th>\n",
       "      <td>35.819912</td>\n",
       "      <td>28.812889</td>\n",
       "      <td>11.014978</td>\n",
       "      <td>matang</td>\n",
       "    </tr>\n",
       "    <tr>\n",
       "      <th>191</th>\n",
       "      <td>37.578981</td>\n",
       "      <td>27.752552</td>\n",
       "      <td>10.845854</td>\n",
       "      <td>matang</td>\n",
       "    </tr>\n",
       "  </tbody>\n",
       "</table>\n",
       "<p>192 rows × 4 columns</p>\n",
       "</div>"
      ],
      "text/plain": [
       "           Red      Green       Blue   Label\n",
       "0    22.413233  25.272039   4.682639  mentah\n",
       "1    21.745084  25.223809   7.268011  mentah\n",
       "2    23.692477  26.899300   6.831220  mentah\n",
       "3    26.973058  31.302858   7.302464  mentah\n",
       "4    24.108849  28.455960   6.963684  mentah\n",
       "..         ...        ...        ...     ...\n",
       "187  39.737761  31.920344  12.184071  matang\n",
       "188  32.105985  21.738881   9.159593  matang\n",
       "189  35.278474  27.963089  10.807161  matang\n",
       "190  35.819912  28.812889  11.014978  matang\n",
       "191  37.578981  27.752552  10.845854  matang\n",
       "\n",
       "[192 rows x 4 columns]"
      ]
     },
     "execution_count": 12,
     "metadata": {},
     "output_type": "execute_result"
    }
   ],
   "source": [
    "# convert to dataframe\n",
    "# Red, Green, Blue, Label\n",
    "df = pd.DataFrame(means, columns=['Red', 'Green', 'Blue', 'Label'])\n",
    "# show all data\n",
    "df.head(len(df))"
   ]
  },
  {
   "cell_type": "code",
   "execution_count": 13,
   "metadata": {},
   "outputs": [],
   "source": [
    "# convert to csv\n",
    "df.to_csv('../dataset/segmented/segmented.csv', index=False)"
   ]
  },
  {
   "cell_type": "code",
   "execution_count": 14,
   "metadata": {},
   "outputs": [
    {
     "data": {
      "text/html": [
       "<div>\n",
       "<style scoped>\n",
       "    .dataframe tbody tr th:only-of-type {\n",
       "        vertical-align: middle;\n",
       "    }\n",
       "\n",
       "    .dataframe tbody tr th {\n",
       "        vertical-align: top;\n",
       "    }\n",
       "\n",
       "    .dataframe thead th {\n",
       "        text-align: right;\n",
       "    }\n",
       "</style>\n",
       "<table border=\"1\" class=\"dataframe\">\n",
       "  <thead>\n",
       "    <tr style=\"text-align: right;\">\n",
       "      <th></th>\n",
       "      <th>Red</th>\n",
       "      <th>Green</th>\n",
       "      <th>Blue</th>\n",
       "      <th>Label</th>\n",
       "    </tr>\n",
       "  </thead>\n",
       "  <tbody>\n",
       "    <tr>\n",
       "      <th>0</th>\n",
       "      <td>22.413233</td>\n",
       "      <td>25.272039</td>\n",
       "      <td>4.682639</td>\n",
       "      <td>0</td>\n",
       "    </tr>\n",
       "    <tr>\n",
       "      <th>1</th>\n",
       "      <td>21.745084</td>\n",
       "      <td>25.223809</td>\n",
       "      <td>7.268011</td>\n",
       "      <td>0</td>\n",
       "    </tr>\n",
       "    <tr>\n",
       "      <th>2</th>\n",
       "      <td>23.692477</td>\n",
       "      <td>26.899300</td>\n",
       "      <td>6.831220</td>\n",
       "      <td>0</td>\n",
       "    </tr>\n",
       "    <tr>\n",
       "      <th>3</th>\n",
       "      <td>26.973058</td>\n",
       "      <td>31.302858</td>\n",
       "      <td>7.302464</td>\n",
       "      <td>0</td>\n",
       "    </tr>\n",
       "    <tr>\n",
       "      <th>4</th>\n",
       "      <td>24.108849</td>\n",
       "      <td>28.455960</td>\n",
       "      <td>6.963684</td>\n",
       "      <td>0</td>\n",
       "    </tr>\n",
       "    <tr>\n",
       "      <th>...</th>\n",
       "      <td>...</td>\n",
       "      <td>...</td>\n",
       "      <td>...</td>\n",
       "      <td>...</td>\n",
       "    </tr>\n",
       "    <tr>\n",
       "      <th>187</th>\n",
       "      <td>39.737761</td>\n",
       "      <td>31.920344</td>\n",
       "      <td>12.184071</td>\n",
       "      <td>1</td>\n",
       "    </tr>\n",
       "    <tr>\n",
       "      <th>188</th>\n",
       "      <td>32.105985</td>\n",
       "      <td>21.738881</td>\n",
       "      <td>9.159593</td>\n",
       "      <td>1</td>\n",
       "    </tr>\n",
       "    <tr>\n",
       "      <th>189</th>\n",
       "      <td>35.278474</td>\n",
       "      <td>27.963089</td>\n",
       "      <td>10.807161</td>\n",
       "      <td>1</td>\n",
       "    </tr>\n",
       "    <tr>\n",
       "      <th>190</th>\n",
       "      <td>35.819912</td>\n",
       "      <td>28.812889</td>\n",
       "      <td>11.014978</td>\n",
       "      <td>1</td>\n",
       "    </tr>\n",
       "    <tr>\n",
       "      <th>191</th>\n",
       "      <td>37.578981</td>\n",
       "      <td>27.752552</td>\n",
       "      <td>10.845854</td>\n",
       "      <td>1</td>\n",
       "    </tr>\n",
       "  </tbody>\n",
       "</table>\n",
       "<p>192 rows × 4 columns</p>\n",
       "</div>"
      ],
      "text/plain": [
       "           Red      Green       Blue  Label\n",
       "0    22.413233  25.272039   4.682639      0\n",
       "1    21.745084  25.223809   7.268011      0\n",
       "2    23.692477  26.899300   6.831220      0\n",
       "3    26.973058  31.302858   7.302464      0\n",
       "4    24.108849  28.455960   6.963684      0\n",
       "..         ...        ...        ...    ...\n",
       "187  39.737761  31.920344  12.184071      1\n",
       "188  32.105985  21.738881   9.159593      1\n",
       "189  35.278474  27.963089  10.807161      1\n",
       "190  35.819912  28.812889  11.014978      1\n",
       "191  37.578981  27.752552  10.845854      1\n",
       "\n",
       "[192 rows x 4 columns]"
      ]
     },
     "execution_count": 14,
     "metadata": {},
     "output_type": "execute_result"
    }
   ],
   "source": [
    "# change label to number\n",
    "df['Label'] = df['Label'].map({'mentah': 0, 'matang': 1})\n",
    "\n",
    "# show all data\n",
    "df.head(len(df))"
   ]
  },
  {
   "cell_type": "code",
   "execution_count": 15,
   "metadata": {},
   "outputs": [
    {
     "data": {
      "image/png": "[encoded data removed]",
      "text/plain": [
       "<Figure size 500x500 with 1 Axes>"
      ]
     },
     "metadata": {},
     "output_type": "display_data"
    }
   ],
   "source": [
    "# plot target distribution\n",
    "plt.figure(figsize=(5, 5))\n",
    "sns.countplot(x='Label', data=df)\n",
    "plt.show()\n"
   ]
  },
  {
   "cell_type": "code",
   "execution_count": 16,
   "metadata": {},
   "outputs": [
    {
     "data": {
      "image/png": "[encoded data removed]",
      "text/plain": [
       "<Figure size 1000x500 with 4 Axes>"
      ]
     },
     "metadata": {},
     "output_type": "display_data"
    }
   ],
   "source": [
    "# sebaran data warna histogram\n",
    "plt.figure(figsize=(10, 5))\n",
    "plt.subplot(2, 2, 1)\n",
    "plt.hist(df['Red'], bins=10, color='red', alpha=0.5)\n",
    "plt.title('Red')\n",
    "plt.grid(True)\n",
    "plt.subplot(2, 2, 2)\n",
    "plt.hist(df['Green'], bins=10, color='green', alpha=0.5)\n",
    "plt.title('Green')\n",
    "plt.grid(True)\n",
    "plt.subplot(2, 2, 3)\n",
    "plt.hist(df['Blue'], bins=10, color='blue', alpha=0.5)\n",
    "plt.title('Blue')\n",
    "plt.grid(True)\n",
    "plt.subplot(2, 2, 4)\n",
    "plt.hist(df['Label'], bins=10, color='black', alpha=0.5)\n",
    "plt.title('Label')\n",
    "plt.grid(True)\n",
    "plt.show()"
   ]
  },
  {
   "cell_type": "code",
   "execution_count": 17,
   "metadata": {},
   "outputs": [],
   "source": [
    "# split to train and test\n",
    "X_train, X_test, y_train, y_test = train_test_split(df[['Red', 'Green', 'Blue']], df['Label'], test_size=0.2, random_state=42)\n"
   ]
  },
  {
   "cell_type": "code",
   "execution_count": 18,
   "metadata": {},
   "outputs": [],
   "source": [
    "# train model\n",
    "from sklearn.preprocessing import StandardScaler\n",
    "scaler = StandardScaler()\n",
    "X_train = scaler.fit_transform(X_train)\n",
    "X_test = scaler.transform(X_test)\n"
   ]
  },
  {
   "cell_type": "code",
   "execution_count": 19,
   "metadata": {},
   "outputs": [
    {
     "data": {
      "text/plain": [
       "<keras.callbacks.History at 0x25b060d04c0>"
      ]
     },
     "execution_count": 19,
     "metadata": {},
     "output_type": "execute_result"
    }
   ],
   "source": [
    "optimizer = tf.keras.optimizers.Adam(learning_rate=0.05)\n",
    "model = tf.keras.models.Sequential()\n",
    "model.add(tf.keras.layers.Dense(3, kernel_initializer='uniform', activation='relu', input_dim=3))\n",
    "model.add(tf.keras.layers.Dense(30, kernel_initializer='uniform', activation='relu'))\n",
    "model.add(tf.keras.layers.Dense(1, kernel_initializer='uniform', activation='sigmoid'))\n",
    "model.compile(optimizer=optimizer, loss='binary_crossentropy', metrics=['accuracy'])\n",
    "\n",
    "model.fit(X_train, y_train, batch_size=10, epochs=1000, verbose=0)"
   ]
  },
  {
   "cell_type": "code",
   "execution_count": 20,
   "metadata": {},
   "outputs": [
    {
     "name": "stdout",
     "output_type": "stream",
     "text": [
      "4/4 [==============================] - 0s 4ms/step - loss: 1.0672e-07 - accuracy: 1.0000\n",
      "Test score: 1.0672311390180766e-07\n",
      "Test accuracy: 1.0\n"
     ]
    }
   ],
   "source": [
    "score, acc = model.evaluate(X_test, y_test, batch_size=10)\n",
    "print('Test score:', score)\n",
    "print('Test accuracy:', acc)\n"
   ]
  },
  {
   "cell_type": "code",
   "execution_count": 21,
   "metadata": {},
   "outputs": [],
   "source": [
    "# save model\n",
    "model.save('../model/final_acc_100.h5')"
   ]
  },
  {
   "cell_type": "code",
   "execution_count": 22,
   "metadata": {
    "scrolled": false
   },
   "outputs": [
    {
     "name": "stdout",
     "output_type": "stream",
     "text": [
      "2/2 [==============================] - 0s 4ms/step\n",
      "4/4 [==============================] - 0s 3ms/step - loss: 1.0672e-07 - accuracy: 1.0000\n",
      "Test score: 1.0672311390180766e-07\n",
      "Test accuracy: 1.0\n"
     ]
    },
    {
     "data": {
      "image/png": "[encoded data removed]",
      "text/plain": [
       "<Figure size 500x500 with 2 Axes>"
      ]
     },
     "metadata": {},
     "output_type": "display_data"
    }
   ],
   "source": [
    "# confusion matrix\n",
    "y_pred = model.predict(X_test)\n",
    "y_pred = (y_pred > 0.5)\n",
    "\n",
    "score, acc = model.evaluate(X_test, y_test, batch_size=10)\n",
    "print('Test score:', score)\n",
    "print('Test accuracy:', acc)\n",
    "\n",
    "from sklearn.metrics import confusion_matrix\n",
    "cm = confusion_matrix(y_test, y_pred)\n",
    "\n",
    "# plot confusion matrix\n",
    "plt.figure(figsize=(5, 5))\n",
    "sns.heatmap(cm, annot=True, fmt='d')\n",
    "plt.title('Confusion matrix')\n",
    "plt.ylabel('Actual label')\n",
    "plt.xlabel('Predicted label')\n",
    "plt.show()\n",
    "\n"
   ]
  }
 ],
 "metadata": {
  "kernelspec": {
   "display_name": "tf_gpu",
   "language": "python",
   "name": "tf_gpu"
  },
  "language_info": {
   "codemirror_mode": {
    "name": "ipython",
    "version": 3
   },
   "file_extension": ".py",
   "mimetype": "text/x-python",
   "name": "python",
   "nbconvert_exporter": "python",
   "pygments_lexer": "ipython3",
   "version": "3.10.10"
  }
 },
 "nbformat": 4,
 "nbformat_minor": 2
}
